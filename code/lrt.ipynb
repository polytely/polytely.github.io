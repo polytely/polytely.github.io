{
 "metadata": {
  "name": "lrt.ipynb"
 },
 "nbformat": 3,
 "nbformat_minor": 0,
 "worksheets": [
  {
   "cells": [
    {
     "cell_type": "markdown",
     "metadata": {},
     "source": [
      "## A Python implementation of Linear Regression Trees\n",
      "\n",
      "There is a distinct class of problems in machine learning and predictive modeling that can be tackled with the ability to construct models of the form: $$\\LARGE Y_t=\u03b2(Z_t)^\u03a4\u03a7_t+\u03b5_t \\hspace{20cm} (1),$$ \n",
      "\n",
      "where $\\LARGE Y_t$  is a continuous response variable, $\\LARGE \u03b2(\u2219)$ the coefficients of the covariates $\\LARGE \u03a7_t$, $\\LARGE Z_t$ is a vector of effect modifiers and $\\LARGE \u03b5_t$ a stationary mean-valued stochastic process. \n",
      "\n",
      "One example can be found in the cases where the structural relations in a power market are explored, so as to explain the factors and conditions affecting the power price or the offset of one generation source (e.g. natural gas) from another (e.g. wind). In fact, the power markets represent an effective test bed for such an approach, due to: a) the availability of detailed data regarding the influential factors (e.g. day-head load and prices, capacity availabilities, power produced per technology type and energy source, RES-E generation, fuel prices, etc.) and b) the availability of domain knowledge that can support the development of sensible hypotheses to explore. In the case that one or more of the relevant time series are non-stationary, the (1) represents a long-run relationship between the $\\LARGE \u03a7_t$, $\\LARGE Y_t$ variables.\n",
      "\n",
      "The methods of model trees have a natural correspondence with models of this form. In particular, if $\\LARGE Z_t$  was univariate, (1) can be regarded as a problem of finding different levels of $\\LARGE Z_t$  for which the coefficients $\\LARGE \u03b2(\u2219)$ are significantly different, thus reflecting significantly different structural relationships between the $\\LARGE \u03a7_t$, $\\LARGE Y_t$ variables. In the general case of $\\LARGE Z_t$  being multivariate, recursive partitioning provides an effective way of exploring the different regimes of the relationship between the explanatory and the response variables.\n",
      "\n",
      "This section will present one implementation of the model tree concept as a <span style=\"color:red\">work in progress</span>, that can be applicable when the goal is to identify a model of the (1) form. In particular, the point of departure of the implementation is the RETIS tree-based regression approach (Karali, 1992), which uses linear regression models in the tree leaves. RETIS evaluates a split by building a multiple linear model for each subset and computing its residual variance.\n",
      "\n",
      "**References**\n",
      "\n",
      "Karalic, A. (1992) *Employing linear regression in regression tree leaves*, In Proceedings of ECAI-92, Wiley & Sons"
     ]
    },
    {
     "cell_type": "code",
     "collapsed": false,
     "input": [
      "import numpy as np\n",
      "import pandas as pd\n",
      "import seaborn as sns\n",
      "from sklearn.linear_model import LinearRegression\n",
      "from scipy.stats import chi2_contingency\n",
      "from scipy.optimize import fminbound\n",
      "from collections import namedtuple\n",
      "import math"
     ],
     "language": "python",
     "metadata": {},
     "outputs": [],
     "prompt_number": 1
    },
    {
     "cell_type": "code",
     "collapsed": false,
     "input": [
      "import time\n",
      "import os\n",
      "import csv"
     ],
     "language": "python",
     "metadata": {},
     "outputs": [],
     "prompt_number": 2
    },
    {
     "cell_type": "code",
     "collapsed": false,
     "input": [
      "def print_timing(func):\n",
      "    def wrapper(*arg, **kargs):\n",
      "        t1 = time.clock()\n",
      "        res = func(*arg, **kargs)\n",
      "        t2 = time.clock()\n",
      "        print '%s took %0.3f ms' % (func.func_name, (t2-t1)*1000.0)\n",
      "        return res\n",
      "    return wrapper"
     ],
     "language": "python",
     "metadata": {},
     "outputs": [],
     "prompt_number": 3
    },
    {
     "cell_type": "code",
     "collapsed": false,
     "input": [
      "def binary_split(dataset, feature, value):\n",
      "    \"\"\"Perform a binary split on the given dataset. \n",
      "\n",
      "        Parameters\n",
      "        ----------\n",
      "        dataset : pandas DataFrame.\n",
      "                  Includes data for the features (explanatory variables) X and the response variable Y.\n",
      "        feature : string. \n",
      "                  The name of the feature on which to split the dataset.\n",
      "        value :   int or double\n",
      "                  The value for the feature to split the dataset. \n",
      "\n",
      "        Returns\n",
      "        -------\n",
      "        pandas DataFrame, pandas DataFrame : The function returns two subsets - the left and the right split.\n",
      "        \n",
      "    \"\"\"\n",
      "    left_set = dataset[dataset[feature] <= value] #creates a copy\n",
      "    right_set = dataset.ix[dataset.index - left_set.index] #creates a copy\n",
      "    \n",
      "    return left_set, right_set"
     ],
     "language": "python",
     "metadata": {},
     "outputs": [],
     "prompt_number": 4
    },
    {
     "cell_type": "markdown",
     "metadata": {},
     "source": [
      "The residual sum of squares (RSS) is calculated as in (Vogel et al., 2007). In particular, instead of calculating RSS by first applying the fitted model and then summing up the squares of the residuals (which requires an $\\LARGE O(P*N)$ operation), an $\\LARGE O(P^2)$ operation is employed, where `p` is the number of predictors and `N` the number of examples (samples).\n",
      "\n",
      "**References**\n",
      "\n",
      "Vogel, D.S.; Asparouhov, O. and Scheffer, T. (2007) *Scalable Look-ahead Linear Regression Trees*, In Proceedings of the 13th ACM SIGKDD International Conference on Knowledge Discovery and Data Mining, pp. 757-764"
     ]
    },
    {
     "cell_type": "code",
     "collapsed": false,
     "input": [
      "def model_rss(dataset, response, features, lm):\n",
      "    \"\"\"Calculate the residual sum of squares of the response estimates from the linear model applied on the given dataset.\n",
      "\n",
      "        Parameters\n",
      "        ----------\n",
      "        dataset :  pandas DataFrame.\n",
      "                   Includes data for the features X and the response variable Y.\n",
      "        response : string.\n",
      "                   Corresponds to the name of the response variable.\n",
      "        features : string or list of strings that corresponds to the name of the explanatory variables X.\n",
      "        lm:        namedtuple.\n",
      "                   A named tuple of the coefficients as numpy array (coef) of shape = [1, n_features] and the <X,X> \n",
      "                   matrix of shape = [n_features, n_features] for the linear regression model fitted on the dataset. \n",
      "                   Since data is assumed to be centered, and the covariance of Xi and Xj is the inner product of the \n",
      "                   corresponding centered variables, the <X,X> matrix is accessible through the 'cov' name.\n",
      "\n",
      "        Returns\n",
      "        -------\n",
      "        double : the residual sum of squares (RSS) of the response estimates.\n",
      "    \"\"\"  \n",
      "    \n",
      "    rss = np.dot(lm.coef, np.dot(lm.cov, lm.coef.T)) - 2*np.dot(lm.coef, np.dot(dataset[features].T, \\\n",
      "                 dataset[response])) + np.dot(dataset[response].T, dataset[response])\n",
      "    \n",
      "    return rss"
     ],
     "language": "python",
     "metadata": {},
     "outputs": [],
     "prompt_number": 5
    },
    {
     "cell_type": "code",
     "collapsed": false,
     "input": [
      "def add_constant(dataset, prepend=True):\n",
      "    \"\"\" A simplification of the statsmodels.tools.tools.add_constant\n",
      "    \n",
      "        This appends a column of ones to a pandas.Dataframe.\n",
      "        It checks to make sure a constant is not already included. If there is at least one column of ones then the\n",
      "        original object is returned.\n",
      "\n",
      "        Parameters\n",
      "        ----------\n",
      "        dataset : pandas.Dataframe\n",
      "                  It is the column-ordered design matrix\n",
      "        prepend : bool\n",
      "                  If True, the constant is prepended rather than appended.\n",
      "    \n",
      "        Returns\n",
      "        -------\n",
      "        dataset : pandas.Dataframe\n",
      "                  The original dataset with a constant (column of ones) as the first ro last column.\n",
      "    \"\"\"\n",
      "    # check for const.\n",
      "    if np.any(dataset.var(0) == 0):\n",
      "        print 'A constant already exists'\n",
      "        return dataset\n",
      "    if prepend:\n",
      "        dataset.insert(0, 'const', 1)\n",
      "    else:\n",
      "        dataset['const'] = 1\n",
      "    return dataset"
     ],
     "language": "python",
     "metadata": {},
     "outputs": [],
     "prompt_number": 6
    },
    {
     "cell_type": "markdown",
     "metadata": {},
     "source": [
      "A full linear regression takes place only once - at the top node of the tree. Calculating the coefficients and the mean squared error of the regression model fitted on each split dataset is done through recursive least squares (Torgo, 2002), which leads to a complexity for evaluating all splits in a node being cubic in the number of features.\n",
      "\n",
      "**References**\n",
      "\n",
      "Torgo, L. (2002) *Computationally Efficient Linear Regression Trees*, In Classification, Clustering and Data Analysis: Recent Advances and Applications (Proc. IFCS 2002), Jajuga et al. (eds.)"
     ]
    },
    {
     "cell_type": "code",
     "collapsed": false,
     "input": [
      "def reg(dataset, response, features):\n",
      "    \"\"\" Calculate the linear regression coefficients for the given dataset.\n",
      "    \n",
      "        Parameters\n",
      "        ----------\n",
      "        dataset :  pandas DataFrame.\n",
      "                   Includes data for the features X and the response variable Y.  \n",
      "        response : string.\n",
      "                   Corresponds to the name of the response variable.\n",
      "        features : string or list of strings that corresponds to the name of the explanatory variables X.\n",
      "            \n",
      "        Returns\n",
      "        -------\n",
      "        named tuple : namedtuple.\n",
      "                      A named tuple of the coefficients as numpy array (coef) of shape = [1, n_features] and the <X,X> \n",
      "                      matrix of shape = [n_features, n_features] for the linear regression model fitted on the dataset. \n",
      "                      Since data is assumed to be centered, and the covariance of Xi and Xj is the inner product of the \n",
      "                      corresponding centered variables, the <X,X> matrix is accessible through the 'cov' name.\n",
      "    \"\"\"\n",
      "    \n",
      "    model = LinearRegression(fit_intercept=False, normalize=False)\n",
      "    model.fit(dataset[features], dataset[response]) \n",
      "    S = np.dot(dataset[features].T, dataset[features])\n",
      "    \n",
      "    Result = namedtuple('Result', 'coef, cov')\n",
      "    return Result(coef=model.coef_, cov=S)"
     ],
     "language": "python",
     "metadata": {},
     "outputs": [],
     "prompt_number": 7
    },
    {
     "cell_type": "code",
     "collapsed": false,
     "input": [
      "def node_model(dataset, response, features, lm):\n",
      "    \"\"\"Calculate the regression coefficients for the given dataset subset.\n",
      "\n",
      "        Parameters\n",
      "        ----------\n",
      "        dataset :  pandas DataFrame.\n",
      "                   Includes data for the features X and the response variable Y.\n",
      "                   It corresponds to the data removed from the parent node's dataset. \n",
      "        response : string.\n",
      "                   Corresponds to the name of the response variable.\n",
      "        features : string or list of strings that corresponds to the name of the explanatory variables X.\n",
      "            \n",
      "        lm:        namedtuple.\n",
      "                   A named tuple of the coefficients as numpy array (coef) of shape = [1, n_features] and the <X,X> \n",
      "                   matrix of shape = [n_features, n_features] for the linear regression model fitted on the dataset. \n",
      "                   Since data is assumed to be centered, and the covariance of Xi and Xj is the inner product of the \n",
      "                   corresponding centered variables, the <X,X> matrix is accessible through the 'cov' name.\n",
      "            \n",
      "        Returns\n",
      "        -------\n",
      "        namedtuple : The linear model fitted according to the provided dataset.\n",
      "                     \n",
      "        References\n",
      "        ----------\n",
      "        Torgo, L. (2002) Computationally Efficient Linear Regression Trees, In Classification, Clustering \n",
      "        and Data Analysis: Recent Advances and Applications (Proc. IFCS 2002), Jajuga et al. (eds.)\n",
      "    \"\"\" \n",
      "    \n",
      "    S = lm.cov - np.dot(dataset[features].T, dataset[features])\n",
      "    g = np.dot(np.linalg.inv(S), dataset[features].T)\n",
      "    resid = np.dot(dataset[features], lm.coef.T) - dataset[response]\n",
      "    coef = lm.coef + np.dot(g, resid).T\n",
      "        \n",
      "    Result = namedtuple('Result', 'coef, cov')\n",
      "    return Result(coef=coef, cov=S)"
     ],
     "language": "python",
     "metadata": {},
     "outputs": [],
     "prompt_number": 8
    },
    {
     "cell_type": "code",
     "collapsed": false,
     "input": [
      "def split_gain(value, feature, dataset, response, features, lm, err_before, tolN, full_output=0):\n",
      "    \"\"\"Calculate the gain from a binary split on the given dataset. \n",
      "\n",
      "        Parameters\n",
      "        ----------\n",
      "        value     :  int or double\n",
      "                     The value for the feature to split the dataset. \n",
      "        feature   :  string. \n",
      "                     The name of the feature on which to split the dataset.\n",
      "        dataset   :  pandas DataFrame.\n",
      "                     Includes data for the features X and the response variable Y.\n",
      "        response  :  string.\n",
      "                     Corresponds to the name of the response variable.\n",
      "        features  :  string or list of strings that corresponds to the name of the explanatory variables X.\n",
      "        lm        :  namedtuple \n",
      "                     A named tuple of the coefficients as numpy array (coef) of shape = [1, n_features] and the <X,X> \n",
      "                     matrix of shape = [n_features, n_features] for the linear regression model fitted on the dataset. \n",
      "                     Since data is assumed to be centered, and the covariance of Xi and Xj is the inner product of the \n",
      "                     corresponding centered variables, the <X,X> matrix is accessible through the 'cov' name.\n",
      "        err_before : double.\n",
      "                     The residual sum of squares (RSS) of the model fitted in the parent node.\n",
      "        tolN       : int. \n",
      "                     The minimum data instances per feature to include in a split.\n",
      "        full_output : bool, optional\n",
      "                      If True, return optional outputs.\n",
      "\n",
      "                     \n",
      "        Returns\n",
      "        -------\n",
      "        double      : The difference between the weighted sum of the RSS of the models in the children nodes and the residual \n",
      "                      sum of squares (RSS) of the parent node' model.\n",
      "        namedtuple  : A named tuple of the coefficients (coef) as numpy array of shape = [1, n_features] and the feature\n",
      "                      covariance (cov) as numpy array of shape = [n_features, n_features] for the linear regression model \n",
      "                      fitted on the left split's dataset\n",
      "        namedtuple  : A named tuple of the coefficients (coef) as numpy array of shape = [1, n_features] and the feature\n",
      "                      covariance (cov) as numpy array of shape = [n_features, n_features] for the linear regression model \n",
      "                      fitted on the right split's dataset\n",
      "    \"\"\"\n",
      "    left_set, right_set = binary_split(dataset, feature, value)\n",
      "    \n",
      "    if len(left_set) < tolN or len(right_set) < tolN:\n",
      "        if full_output:\n",
      "            return np.inf, None, None\n",
      "        else:\n",
      "            return np.inf    \n",
      "    \n",
      "    nsamples = float(len(dataset))\n",
      "    \n",
      "    left_lm = node_model(right_set, response, features, lm)\n",
      "    left_err = model_rss(left_set, response, features, left_lm)\n",
      "    \n",
      "    right_lm = node_model(left_set, response, features, lm)\n",
      "    right_err = model_rss(right_set, response, features, right_lm)\n",
      "       \n",
      "    err_after = len(left_set)*left_err/nsamples + len(right_set)*right_err/nsamples\n",
      "    gain = err_after - err_before \n",
      "    \n",
      "    if full_output:\n",
      "        return gain, left_lm, right_lm\n",
      "    else:\n",
      "        return gain"
     ],
     "language": "python",
     "metadata": {},
     "outputs": [],
     "prompt_number": 9
    },
    {
     "cell_type": "markdown",
     "metadata": {},
     "source": [
      "Let's do some testing:"
     ]
    },
    {
     "cell_type": "code",
     "collapsed": false,
     "input": [
      "df = pd.read_table(os.path.join(os.getcwd(), 'exp2.txt'), sep='\\s+', names=['x', 'y']) #assume last column is target value"
     ],
     "language": "python",
     "metadata": {},
     "outputs": [],
     "prompt_number": 10
    },
    {
     "cell_type": "code",
     "collapsed": false,
     "input": [
      "plt.figure(figsize=(7,4))\n",
      "df.plot(style='o', x='x', y='y')\n",
      "plt.xlim([0,df['x'].max()]);"
     ],
     "language": "python",
     "metadata": {},
     "outputs": [
      {
       "metadata": {},
       "output_type": "display_data",
       "png": "[encoded data removed]",
       "text": [
        "<matplotlib.figure.Figure at 0x8c558b0>"
       ]
      }
     ],
     "prompt_number": 11
    },
    {
     "cell_type": "code",
     "collapsed": false,
     "input": [
      "df = add_constant(df)"
     ],
     "language": "python",
     "metadata": {},
     "outputs": [],
     "prompt_number": 12
    },
    {
     "cell_type": "code",
     "collapsed": false,
     "input": [
      "features = [var for var in df.columns if var!='y']"
     ],
     "language": "python",
     "metadata": {},
     "outputs": [],
     "prompt_number": 13
    },
    {
     "cell_type": "code",
     "collapsed": false,
     "input": [
      "lm = reg(df, 'y', features)\n",
      "zip(features, lm.coef)"
     ],
     "language": "python",
     "metadata": {},
     "outputs": [
      {
       "metadata": {},
       "output_type": "pyout",
       "prompt_number": 14,
       "text": [
        "[('const', 1.8398566083135006), ('x', 9.395202588695982)]"
       ]
      }
     ],
     "prompt_number": 14
    },
    {
     "cell_type": "code",
     "collapsed": false,
     "input": [
      "y_hat = np.dot(df[features], lm.coef.T)\n",
      "\n",
      "plt.figure(figsize=(7,4))\n",
      "df.plot(style='o', x='x', y='y')\n",
      "plt.plot(df['x'], y_hat)\n",
      "plt.xlim([0,df['x'].max()]);"
     ],
     "language": "python",
     "metadata": {},
     "outputs": [
      {
       "metadata": {},
       "output_type": "display_data",
       "png": "[encoded data removed]",
       "text": [
        "<matplotlib.figure.Figure at 0x8cadc30>"
       ]
      }
     ],
     "prompt_number": 15
    },
    {
     "cell_type": "markdown",
     "metadata": {},
     "source": [
      "The actual models used for the piecewise linear model above were `y=3.5+1.0x` and `y=0.+12x`"
     ]
    },
    {
     "cell_type": "code",
     "collapsed": false,
     "input": [
      "err_before = model_rss(df, 'y', features, lm)\n",
      "\n",
      "gain, lm_left, lm_right = split_gain(0.3, 'x', df, 'y', features, lm, err_before, 10, full_output=1)\n",
      "print zip(features, lm_left.coef)\n",
      "print zip(features, lm_right.coef)"
     ],
     "language": "python",
     "metadata": {},
     "outputs": [
      {
       "output_type": "stream",
       "stream": "stdout",
       "text": [
        "[('const', 3.4687793552577668), ('x', 1.1852174309188683)]\n",
        "[('const', 0.0016985569360752351), ('x', 11.964773944277002)]\n"
       ]
      }
     ],
     "prompt_number": 16
    },
    {
     "cell_type": "markdown",
     "metadata": {},
     "source": [
      "To find the best value to split a given feature, we need to search in its values."
     ]
    },
    {
     "cell_type": "code",
     "collapsed": false,
     "input": [
      "@print_timing\n",
      "def best_split(dataset, response, features, lm, err_before, tolS=0.01, tolN=20, constant=None, **kwargs):\n",
      "    \"\"\"Find the split (feature and value) on the given dataset that corresponds to the largest gain. \n",
      "\n",
      "        Parameters\n",
      "        ----------\n",
      "        dataset  :  pandas.DataFrame.\n",
      "                    Includes data for the features X and the response variable Y.\n",
      "        response :  string that corresponds to the name of the response variable.\n",
      "        features :  string or list of strings that corresponds to the name of the explanatory variables X.\n",
      "        lm       :  namedtuple \n",
      "                    A named tuple of the coefficients (coef) as numpy array of shape = [1, n_features] and the feature\n",
      "                    covariance (cov) as numpy array of shape = [n_features, n_features] for the linear regression model \n",
      "                    fitted on the parent node's dataset.   \n",
      "        err_before : double.\n",
      "                     The residual sum of squares (RSS) of the model fitted in the parent node.\n",
      "        tolS       : float, optional (default=0.01). \n",
      "                     The percentage tolerance on the error reduction from splitting the dataset.\n",
      "        tolN       : int, optional (default=20). \n",
      "                     The minimum data instances per feature to include in a split.\n",
      "        constant   : string or int optional (default=None)\n",
      "                     The name of the constant, so as to avoid searching split values for it.\n",
      "            \n",
      "        Returns\n",
      "        -------\n",
      "        namedtuple : A named tuple of the feature on which to split the data (feature) as string, the corresponding value \n",
      "                     of the feature (value) as double, and a list with the corresponding two regression models (left and right)\n",
      "        \n",
      "    \"\"\"\n",
      "    \n",
      "    best_gain = np.inf; best_feature = None; best_value = 0.; best_models = None\n",
      "    \n",
      "    maxfun = kwargs.pop('maxfun', 500)\n",
      "    xtol = kwargs.pop('xtol', 1e-05)\n",
      "    \n",
      "    #For every feature:\n",
      "    for feature in [x for x in features if x!=constant]:\n",
      "        splitVal, gain, _, _ = fminbound(split_gain, dataset[feature].min(),  dataset[feature].max(), \\\n",
      "                args=(feature, dataset, response, features, lm, err_before, tolN), xtol=xtol, maxfun=maxfun, full_output=1) \n",
      "        \n",
      "        if gain > 0 or abs(gain/err_before) < tolS: \n",
      "            continue\n",
      "        \n",
      "        if gain < best_gain:\n",
      "            best_gain = gain\n",
      "        else:\n",
      "            continue         \n",
      "        \n",
      "        best_feature = feature\n",
      "        best_value = splitVal\n",
      "    \n",
      "    if best_feature is None:\n",
      "        return None\n",
      "    else:\n",
      "        Result = namedtuple('Result', 'feature, value, models')\n",
      "        gain, left_lm, right_lm = split_gain(best_value, best_feature, dataset, response, features, lm, \\\n",
      "                                                 err_before, tolN, full_output=1)\n",
      "        best_models = [left_lm, right_lm]\n",
      "            \n",
      "        return Result(feature=best_feature, value=best_value, models=best_models)"
     ],
     "language": "python",
     "metadata": {},
     "outputs": [],
     "prompt_number": 17
    },
    {
     "cell_type": "markdown",
     "metadata": {},
     "source": [
      "Let's do some testing"
     ]
    },
    {
     "cell_type": "code",
     "collapsed": false,
     "input": [
      "solution = best_split(df, 'y', features, lm, err_before, constant='const', maxfun=25)"
     ],
     "language": "python",
     "metadata": {},
     "outputs": [
      {
       "output_type": "stream",
       "stream": "stdout",
       "text": [
        "best_split took 397.526 ms\n"
       ]
      }
     ],
     "prompt_number": 18
    },
    {
     "cell_type": "code",
     "collapsed": false,
     "input": [
      "print 'Best split found at %s=%f' %(solution.feature, solution.value)"
     ],
     "language": "python",
     "metadata": {},
     "outputs": [
      {
       "output_type": "stream",
       "stream": "stdout",
       "text": [
        "Best split found at x=0.339204\n"
       ]
      }
     ],
     "prompt_number": 19
    },
    {
     "cell_type": "code",
     "collapsed": false,
     "input": [
      "print [(i, zip(features, x.coef)) for i, x in enumerate(solution.models, 1)]"
     ],
     "language": "python",
     "metadata": {},
     "outputs": [
      {
       "output_type": "stream",
       "stream": "stdout",
       "text": [
        "[(1, [('const', 3.4756356497400072), ('x', 1.1126076903994022)]), (2, [('const', 0.014719381780552654), ('x', 11.948100889797432)])]\n"
       ]
      }
     ],
     "prompt_number": 20
    },
    {
     "cell_type": "markdown",
     "metadata": {},
     "source": [
      "Should we search all features? If the number of features is small, we could. However, if the number is large, we can implement the curvature test approach of the GUIDE algorithm (Loh, 2002).\n",
      "\n",
      "**References**\n",
      "\n",
      "Loh, W.Y. (2002) *Regression trees with unbiased variable selection and interaction detection*, Statistica Sinica, 12, pp: 361\u2013386"
     ]
    },
    {
     "cell_type": "markdown",
     "metadata": {},
     "source": [
      "For each observation associated with a positive residual, define the class variable Z = 1; else define Z = 0.\n",
      "\n",
      "For each predictor variable X:\n",
      "\n",
      "a) Construct a 2 \u00d7 m cross-classification table. The rows of the table are formed by the values of Z. If X is quantitative, its values are grouped into four intervals at the sample quartiles and the groups constitute the columns, i.e., m = 4."
     ]
    },
    {
     "cell_type": "code",
     "collapsed": false,
     "input": [
      "df['resid'] = df['y'] - y_hat"
     ],
     "language": "python",
     "metadata": {},
     "outputs": [],
     "prompt_number": 21
    },
    {
     "cell_type": "code",
     "collapsed": false,
     "input": [
      "plt.figure(figsize=(7,4))\n",
      "\n",
      "df.plot(style='o', x='x', y='resid')\n",
      "for value in [df['x'].quantile(x) for x in [0.25, 0.5, 0.75]]:\n",
      "    plt.axvline(x=value, linestyle='dashed', color='r')\n",
      "plt.xlim([0,df['x'].max()]);"
     ],
     "language": "python",
     "metadata": {},
     "outputs": [
      {
       "metadata": {},
       "output_type": "display_data",
       "png": "[encoded data removed]",
       "text": [
        "<matplotlib.figure.Figure at 0x8d82af0>"
       ]
      }
     ],
     "prompt_number": 22
    },
    {
     "cell_type": "code",
     "collapsed": false,
     "input": [
      "df['cluster'] = pd.qcut(df['x'], [0, .25, .5, .75, 1.], labels=['C1', 'C2', 'C3', 'C4'], precision=3)"
     ],
     "language": "python",
     "metadata": {},
     "outputs": [],
     "prompt_number": 23
    },
    {
     "cell_type": "code",
     "collapsed": false,
     "input": [
      "df['sign'] = np.sign(df['resid'])"
     ],
     "language": "python",
     "metadata": {},
     "outputs": [],
     "prompt_number": 24
    },
    {
     "cell_type": "code",
     "collapsed": false,
     "input": [
      "df = df[df['sign']!=0]"
     ],
     "language": "python",
     "metadata": {},
     "outputs": [],
     "prompt_number": 25
    },
    {
     "cell_type": "code",
     "collapsed": false,
     "input": [
      "grouped = df.groupby(['cluster', 'sign'])"
     ],
     "language": "python",
     "metadata": {},
     "outputs": [],
     "prompt_number": 26
    },
    {
     "cell_type": "code",
     "collapsed": false,
     "input": [
      "for name, group in grouped:\n",
      "    print name\n",
      "    print group\n",
      "    break"
     ],
     "language": "python",
     "metadata": {},
     "outputs": [
      {
       "output_type": "stream",
       "stream": "stdout",
       "text": [
        "('C1', -1.0)\n",
        "     const         x         y     resid cluster  sign\n",
        "40       1  0.233675  3.795962 -0.239319      C1    -1\n",
        "45       1  0.226271  3.546938 -0.418780      C1    -1\n",
        "70       1  0.244888  3.777018 -0.363611      C1    -1\n",
        "73       1  0.233805  3.740022 -0.296480      C1    -1\n",
        "95       1  0.263713  3.723018 -0.594476      C1    -1\n",
        "102      1  0.212118  3.740024 -0.092724      C1    -1\n",
        "103      1  0.264587  3.742917 -0.582788      C1    -1\n",
        "105      1  0.250670  3.679117 -0.515835      C1    -1\n",
        "107      1  0.253752  3.781488 -0.442420      C1    -1\n",
        "144      1  0.220512  3.713645 -0.197967      C1    -1\n"
       ]
      }
     ],
     "prompt_number": 27
    },
    {
     "cell_type": "code",
     "collapsed": false,
     "input": [
      "result = grouped['cluster'].count()\n",
      "result = result.unstack(0).fillna(0)\n",
      "result"
     ],
     "language": "python",
     "metadata": {},
     "outputs": [
      {
       "html": [
        "<div style=\"max-height:1000px;max-width:1500px;overflow:auto;\">\n",
        "<table border=\"1\" class=\"dataframe\">\n",
        "  <thead>\n",
        "    <tr style=\"text-align: right;\">\n",
        "      <th>cluster</th>\n",
        "      <th>C1</th>\n",
        "      <th>C2</th>\n",
        "      <th>C3</th>\n",
        "      <th>C4</th>\n",
        "    </tr>\n",
        "    <tr>\n",
        "      <th>sign</th>\n",
        "      <th></th>\n",
        "      <th></th>\n",
        "      <th></th>\n",
        "      <th></th>\n",
        "    </tr>\n",
        "  </thead>\n",
        "  <tbody>\n",
        "    <tr>\n",
        "      <th>-1</th>\n",
        "      <td> 10</td>\n",
        "      <td> 50</td>\n",
        "      <td> 38</td>\n",
        "      <td>  0</td>\n",
        "    </tr>\n",
        "    <tr>\n",
        "      <th> 1</th>\n",
        "      <td> 40</td>\n",
        "      <td>  0</td>\n",
        "      <td> 12</td>\n",
        "      <td> 50</td>\n",
        "    </tr>\n",
        "  </tbody>\n",
        "</table>\n",
        "</div>"
       ],
       "metadata": {},
       "output_type": "pyout",
       "prompt_number": 28,
       "text": [
        "cluster  C1  C2  C3  C4\n",
        "sign                   \n",
        "-1       10  50  38   0\n",
        " 1       40   0  12  50"
       ]
      }
     ],
     "prompt_number": 28
    },
    {
     "cell_type": "markdown",
     "metadata": {},
     "source": [
      "b) Compute the significance probability of the chi-squared test of association between the rows and columns of the table"
     ]
    },
    {
     "cell_type": "code",
     "collapsed": false,
     "input": [
      "chi2, p, dof, ex = chi2_contingency(result, lambda_=\"log-likelihood\")"
     ],
     "language": "python",
     "metadata": {},
     "outputs": [],
     "prompt_number": 29
    },
    {
     "cell_type": "code",
     "collapsed": false,
     "input": [
      "# If the p-value is less than the significance level, reject the null hypothesis that that there is no association between \n",
      "# the variables\n",
      "print p"
     ],
     "language": "python",
     "metadata": {},
     "outputs": [
      {
       "output_type": "stream",
       "stream": "stdout",
       "text": [
        "4.63733831823e-37\n"
       ]
      }
     ],
     "prompt_number": 30
    },
    {
     "cell_type": "markdown",
     "metadata": {},
     "source": [
      "Let's see how this would work with a larger dataset"
     ]
    },
    {
     "cell_type": "code",
     "collapsed": false,
     "input": [
      "f = open(os.path.join(os.getcwd(), 'house.csv'))\n",
      "reader = csv.reader(f)\n",
      "\n",
      "variables = []\n",
      "\n",
      "for line in reader:\n",
      "    if line[0].startswith('@inputs'):\n",
      "        variables.extend(''.join(line).split()[1:])\n",
      "    elif line[0].startswith('@outputs'):\n",
      "        response = ''.join(line).split()[1:]\n",
      "    elif line[0].startswith('@data'):\n",
      "        skiprows = int(reader.line_num)\n",
      "        break\n",
      "\n",
      "variables.extend(response)\n",
      "\n",
      "df = pd.read_csv(os.path.join(os.getcwd(), 'house.csv'), skiprows=skiprows, names=variables)"
     ],
     "language": "python",
     "metadata": {},
     "outputs": [],
     "prompt_number": 31
    },
    {
     "cell_type": "code",
     "collapsed": false,
     "input": [
      "print df.shape\n",
      "print response"
     ],
     "language": "python",
     "metadata": {},
     "outputs": [
      {
       "output_type": "stream",
       "stream": "stdout",
       "text": [
        "(22784, 17)\n",
        "['Price']\n"
       ]
      }
     ],
     "prompt_number": 32
    },
    {
     "cell_type": "markdown",
     "metadata": {},
     "source": [
      "Let's search all features first"
     ]
    },
    {
     "cell_type": "code",
     "collapsed": false,
     "input": [
      "df = add_constant(df)"
     ],
     "language": "python",
     "metadata": {},
     "outputs": [],
     "prompt_number": 33
    },
    {
     "cell_type": "code",
     "collapsed": false,
     "input": [
      "features = [var for var in df.columns if var!='Price']"
     ],
     "language": "python",
     "metadata": {},
     "outputs": [],
     "prompt_number": 34
    },
    {
     "cell_type": "code",
     "collapsed": false,
     "input": [
      "lm = reg(df, 'Price', features)\n",
      "err_before = model_rss(df, 'Price', features, lm)"
     ],
     "language": "python",
     "metadata": {},
     "outputs": [],
     "prompt_number": 35
    },
    {
     "cell_type": "code",
     "collapsed": false,
     "input": [
      "solution = best_split(df, 'Price', features, lm, err_before, constant='const')"
     ],
     "language": "python",
     "metadata": {},
     "outputs": [
      {
       "output_type": "stream",
       "stream": "stdout",
       "text": [
        "best_split took 36952.231 ms\n"
       ]
      }
     ],
     "prompt_number": 36
    },
    {
     "cell_type": "code",
     "collapsed": false,
     "input": [
      "print 'Best split found at %s=%f' %(solution.feature, solution.value)"
     ],
     "language": "python",
     "metadata": {},
     "outputs": [
      {
       "output_type": "stream",
       "stream": "stdout",
       "text": [
        "Best split found at H10p1=0.989042\n"
       ]
      }
     ],
     "prompt_number": 37
    },
    {
     "cell_type": "code",
     "collapsed": false,
     "input": [
      "plt.figure(figsize=(7,4))\n",
      "df.plot(style='o', x='H10p1', y='Price')\n",
      "plt.xlim([df['H10p1'].min() ,df['H10p1'].max()]);"
     ],
     "language": "python",
     "metadata": {},
     "outputs": [
      {
       "metadata": {},
       "output_type": "display_data",
       "png": "[encoded data removed]",
       "text": [
        "<matplotlib.figure.Figure at 0x8cbd6d0>"
       ]
      }
     ],
     "prompt_number": 38
    },
    {
     "cell_type": "code",
     "collapsed": false,
     "input": [
      "def curvature(dataset, feature, precision):\n",
      "    try:\n",
      "        dataset['cluster'] = pd.qcut(dataset[feature], [0, .25, .5, .75, 1.], labels=['C1', 'C2', 'C3', 'C4'], precision=precision)\n",
      "    except ValueError:\n",
      "        try:\n",
      "            dataset['cluster'] = pd.qcut(dataset[feature], [0, 0.5, 1.], labels=['C1', 'C2'], precision=precision)\n",
      "        except ValueError:\n",
      "            return np.inf\n",
      "            \n",
      "    grouped = dataset.groupby(['cluster', 'sign'])\n",
      "    result = grouped['cluster'].count()\n",
      "    result = result.unstack(0).fillna(0)\n",
      "    chi2, p, dof, ex = chi2_contingency(result, lambda_=\"log-likelihood\")\n",
      "    dataset.drop('cluster', axis=1, inplace=True)\n",
      "    return p"
     ],
     "language": "python",
     "metadata": {},
     "outputs": [],
     "prompt_number": 39
    },
    {
     "cell_type": "code",
     "collapsed": false,
     "input": [
      "df['resid'] = df['Price'] - np.dot(df[features], lm.coef.T)\n",
      "df['sign'] = np.sign(df['resid'])\n",
      "df = df[df['sign']!=0]"
     ],
     "language": "python",
     "metadata": {},
     "outputs": [],
     "prompt_number": 40
    },
    {
     "cell_type": "code",
     "collapsed": false,
     "input": [
      "best_p = 0.05\n",
      "for feature in [x for x in features if x not in ['const', 'resid', 'sign']]:\n",
      "    print feature, curvature(df, feature, 3)"
     ],
     "language": "python",
     "metadata": {},
     "outputs": [
      {
       "output_type": "stream",
       "stream": "stdout",
       "text": [
        "P1 4.30993033581e-174\n",
        "P5p1 "
       ]
      },
      {
       "output_type": "stream",
       "stream": "stdout",
       "text": [
        "4.73112293907e-10\n",
        "P6p2 1.60355173591e-138\n",
        "P11p4 "
       ]
      },
      {
       "output_type": "stream",
       "stream": "stdout",
       "text": [
        "0.000514690358712\n",
        "P14p9 3.6830763443e-43\n",
        "P15p1 3.52563377538e-120\n",
        "P15p3 "
       ]
      },
      {
       "output_type": "stream",
       "stream": "stdout",
       "text": [
        "inf\n",
        "P16p2 4.61705431432e-121\n",
        "P18p2 "
       ]
      },
      {
       "output_type": "stream",
       "stream": "stdout",
       "text": [
        "1.36313519352e-05\n",
        "P27p4 1.88420692075e-75\n",
        "H2p2 "
       ]
      },
      {
       "output_type": "stream",
       "stream": "stdout",
       "text": [
        "9.10744973871e-53\n",
        "H8p2 3.10143420253e-132\n",
        "H10p1 "
       ]
      },
      {
       "output_type": "stream",
       "stream": "stdout",
       "text": [
        "3.71851915966e-121\n",
        "H13p1 1.82195643641e-192\n",
        "H18pA "
       ]
      },
      {
       "output_type": "stream",
       "stream": "stdout",
       "text": [
        "1.5197002404e-12\n",
        "H40p4 1.11227408147e-16\n"
       ]
      }
     ],
     "prompt_number": 41
    },
    {
     "cell_type": "markdown",
     "metadata": {},
     "source": [
      "Obviously, we would have no gain (timewise) following this approach."
     ]
    },
    {
     "cell_type": "code",
     "collapsed": false,
     "input": [
      "@print_timing\n",
      "def best_split(dataset, response, features, lm, err_before, tolS=0.01, tolN=20, pvalue=0.05, constant=None, **kwargs):\n",
      "    \"\"\"Find the split (feature and value) on the given dataset that corresponds to the largest gain. \n",
      "\n",
      "        Parameters\n",
      "        ----------\n",
      "        dataset  :  pandas.DataFrame.\n",
      "                    Includes data for the features X, the residuals for the linear regression model \n",
      "                    fitted on the parent node's dataset and their sign, and the response variable Y.\n",
      "        response :  string that corresponds to the name of the response variable.\n",
      "        features :  string or list of strings that corresponds to the name of the explanatory variables X.\n",
      "        lm       :  namedtuple \n",
      "                    A named tuple of the coefficients (coef) as numpy array of shape = [1, n_features] and the feature\n",
      "                    covariance (cov) as numpy array of shape = [n_features, n_features] for the linear regression model \n",
      "                    fitted on the parent node's dataset.   \n",
      "        err_before : double.\n",
      "                     The residual sum of squares (RSS) of the model fitted in the parent node.\n",
      "        tolS       : float, optional (default=0.01). \n",
      "                     The percentage tolerance on the error reduction from splitting the dataset.\n",
      "        tolN       : int, optional (default=20). \n",
      "                     The minimum data instances per feature to include in a split.\n",
      "        pvalue     : float, optional (default=0.05). \n",
      "                     The p-value of the chi-square test for the association between the row and column variables in a \n",
      "                     two-way table.\n",
      "        constant   : string or int optional (default=None)\n",
      "                     The name of the constant, so as to avoid searching split values for it.\n",
      "            \n",
      "        Returns\n",
      "        -------\n",
      "        namedtuple : A named tuple of the feature on which to split the data (feature) as string, the corresponding value \n",
      "                     of the feature (value) as double, and a list with the corresponding two regression models (left and right)\n",
      "        \n",
      "    \"\"\"\n",
      "    \n",
      "    best_gain = np.inf; best_feature = None; best_value = 0.; best_models = None\n",
      "    \n",
      "    maxfun = kwargs.pop('maxfun', 500)\n",
      "    xtol = kwargs.pop('xtol', 1e-05)\n",
      "    precision = kwargs.pop('precision', 3)\n",
      "    \n",
      "    #Test features for curvature\n",
      "    if 'cluster' in dataset.columns:\n",
      "        raise ValueError(\"A column with the name \\\"cluster\\\" already exists in the dataset\")\n",
      "\n",
      "    active = [] \n",
      "    for feature in [x for x in features if x not in [constant, 'resid', 'sign']]:\n",
      "        if curvature(dataset, feature, precision) < pvalue:\n",
      "            active.append(feature)\n",
      "\n",
      "    #For every feature in the set of the features with significant evidence of curvature:\n",
      "    for feature in active:\n",
      "        splitVal, gain, _, _ = fminbound(split_gain, dataset[feature].min(),  dataset[feature].max(), \\\n",
      "                args=(feature, dataset, response, features, lm, err_before, tolN), xtol=xtol, maxfun=maxfun, full_output=1) \n",
      "        \n",
      "        if gain > 0 or abs(gain/err_before) < tolS: \n",
      "            continue\n",
      "        \n",
      "        if gain < best_gain:\n",
      "            best_gain = gain\n",
      "        else:\n",
      "            continue         \n",
      "        \n",
      "        best_feature = feature\n",
      "        best_value = splitVal\n",
      "    \n",
      "    if best_feature is None:\n",
      "        return None\n",
      "    else:\n",
      "        Result = namedtuple('Result', 'feature, value, models')\n",
      "        gain, left_lm, right_lm = split_gain(best_value, best_feature, dataset, response, features, lm, \\\n",
      "                                                 err_before, tolN, full_output=1)\n",
      "        best_models = [left_lm, right_lm]\n",
      "            \n",
      "        return Result(feature=best_feature, value=best_value, models=best_models)"
     ],
     "language": "python",
     "metadata": {},
     "outputs": [],
     "prompt_number": 42
    },
    {
     "cell_type": "code",
     "collapsed": false,
     "input": [
      "solution = best_split(df, 'Price', features, lm, err_before, constant='const', pvalue=0.01)\n",
      "print 'Best split found at %s=%f' %(solution.feature, solution.value)"
     ],
     "language": "python",
     "metadata": {},
     "outputs": [
      {
       "output_type": "stream",
       "stream": "stdout",
       "text": [
        "best_split took 38932.043 ms\n",
        "Best split found at H10p1=0.989042\n"
       ]
      }
     ],
     "prompt_number": 43
    },
    {
     "cell_type": "code",
     "collapsed": false,
     "input": [
      "plt.figure(figsize=(7,4))\n",
      "\n",
      "df.plot(style='o', x='H10p1', y='resid')\n",
      "plt.axvline(x=solution.value, linestyle='dashed', color='r')\n",
      "plt.xlim([df['H10p1'].min(), df['H10p1'].max()]);"
     ],
     "language": "python",
     "metadata": {},
     "outputs": [
      {
       "metadata": {},
       "output_type": "display_data",
       "png": "[encoded data removed]",
       "text": [
        "<matplotlib.figure.Figure at 0x8cbddf0>"
       ]
      }
     ],
     "prompt_number": 44
    },
    {
     "cell_type": "code",
     "collapsed": false,
     "input": [
      "len(df[df['H10p1'] >= solution.value]) / float(len(df))"
     ],
     "language": "python",
     "metadata": {},
     "outputs": [
      {
       "metadata": {},
       "output_type": "pyout",
       "prompt_number": 45,
       "text": [
        "0.6430389747191011"
       ]
      }
     ],
     "prompt_number": 45
    },
    {
     "cell_type": "markdown",
     "metadata": {},
     "source": [
      "Obviously, it is not a sensible split, which is driven mostly be the fact that the distribution is very skewed.\n",
      "\n",
      "Let's see if the curvature test pinpoints a better feature. The faeture `H13p1` has the smallest p-value."
     ]
    },
    {
     "cell_type": "code",
     "collapsed": false,
     "input": [
      "solution = best_split(df, 'Price', features, lm, err_before, constant='const', pvalue=1.9e-192)\n",
      "print 'Best split found at %s=%f' %(solution.feature, solution.value)"
     ],
     "language": "python",
     "metadata": {},
     "outputs": [
      {
       "output_type": "stream",
       "stream": "stdout",
       "text": [
        "best_split took 3476.546 ms\n",
        "Best split found at H13p1=0.260862\n"
       ]
      }
     ],
     "prompt_number": 46
    },
    {
     "cell_type": "code",
     "collapsed": false,
     "input": [
      "plt.figure(figsize=(7,4))\n",
      "\n",
      "df.plot(style='o', x='H13p1', y='resid')\n",
      "plt.axvline(x=solution.value, linestyle='dashed', color='r')\n",
      "plt.xlim([df['H13p1'].min(), df['H13p1'].max()]);"
     ],
     "language": "python",
     "metadata": {},
     "outputs": [
      {
       "metadata": {},
       "output_type": "display_data",
       "png": "[encoded data removed]",
       "text": [
        "<matplotlib.figure.Figure at 0xc71def0>"
       ]
      }
     ],
     "prompt_number": 47
    },
    {
     "cell_type": "code",
     "collapsed": false,
     "input": [],
     "language": "python",
     "metadata": {},
     "outputs": []
    }
   ],
   "metadata": {}
  }
 ]
}